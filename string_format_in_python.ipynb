{
 "cells": [
  {
   "cell_type": "markdown",
   "metadata": {},
   "source": [
    "```Python\n",
    "str.format(*args,**kwargs)\n",
    "```\n",
    "\n",
    ">\n",
    "perform a string format operation. The string on which this method is called can contain literal text or replacement fields delimited by braces {}. Each replacement field contains either the numeric index of a positional argument, or the name of a keyword argument. Returns a copy of the string where each replacement field is replaced with the string value of the corresponding argument."
   ]
  },
  {
   "cell_type": "code",
   "execution_count": 3,
   "metadata": {
    "collapsed": false
   },
   "outputs": [
    {
     "name": "stdout",
     "output_type": "stream",
     "text": [
      "hello world\n",
      "hello world\n",
      "hello world\n",
      "hello world world\n"
     ]
    }
   ],
   "source": [
    "s1 = \"{} {}\".format(\"hello\",\"world\")\n",
    "s2 = \"{0} {1}\".format(\"hello\",\"world\")\n",
    "s3 = \"{h} {w}\".format(h=\"hello\",w = \"world\")\n",
    "s4 = \"{0} {1} {1}\".format(\"hello\",\"world\")\n",
    "\n",
    "print(s1)\n",
    "print(s2)\n",
    "print(s3)\n",
    "print(s4)"
   ]
  },
  {
   "cell_type": "code",
   "execution_count": 7,
   "metadata": {
    "collapsed": false
   },
   "outputs": [
    {
     "name": "stdout",
     "output_type": "stream",
     "text": [
      "name: Python, score: 100\n",
      "name: d, score: a\n"
     ]
    }
   ],
   "source": [
    "data = {'name':\"Python\",'score':100}\n",
    "s5 = \"name: {0[name]}, score: {0[score]}\".format(data)\n",
    "print s5\n",
    "s6 = \"name: {0[0]}, score: {0[1]}\".format(\"data\")\n",
    "print s6"
   ]
  },
  {
   "cell_type": "code",
   "execution_count": 9,
   "metadata": {
    "collapsed": false
   },
   "outputs": [
    {
     "name": "stdout",
     "output_type": "stream",
     "text": [
      "Python vs Ruby\n",
      "\n",
      "====\n",
      " Help(format):\n",
      " S.format(*args, **kwargs) -> string\n",
      "\n",
      "Return a formatted version of S, using substitutions from args and kwargs.\n",
      "The substitutions are identified by braces ('{' and '}').\n"
     ]
    }
   ],
   "source": [
    "langs = [\"Python\",\"Ruby\"]\n",
    "s7 = \"{0[0]} vs {0[1]}\".format(langs)\n",
    "print s7\n",
    "print(\"\\n====\\n Help(format):\\n {.__doc__}\".format(str.format))"
   ]
  },
  {
   "cell_type": "code",
   "execution_count": 12,
   "metadata": {
    "collapsed": false
   },
   "outputs": [
    {
     "name": "stdout",
     "output_type": "stream",
     "text": [
      "pi = 3.1, also = 3.141593\n"
     ]
    }
   ],
   "source": [
    "from math import pi\n",
    "s8 = \"pi = {pi:.2}, also = {pi:.7}\".format(pi = pi)\n",
    "print s8"
   ]
  },
  {
   "cell_type": "markdown",
   "metadata": {},
   "source": [
    "Ref: \n",
    "\n",
    "* [Python字符串的格式化](http://mp.weixin.qq.com/s?__biz=MzA4MjEyNTA5Mw==&mid=2652563555&idx=2&sn=8dfae3b3534d3a26cbea67ee7be6da8f&scene=5&srcid=0421LNG5ZSVYPvNSFAku0u7w#rd)"
   ]
  }
 ],
 "metadata": {
  "kernelspec": {
   "display_name": "Python 2",
   "language": "python",
   "name": "python2"
  },
  "language_info": {
   "codemirror_mode": {
    "name": "ipython",
    "version": 2
   },
   "file_extension": ".py",
   "mimetype": "text/x-python",
   "name": "python",
   "nbconvert_exporter": "python",
   "pygments_lexer": "ipython2",
   "version": "2.7.10"
  }
 },
 "nbformat": 4,
 "nbformat_minor": 0
}
